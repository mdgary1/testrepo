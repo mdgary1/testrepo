{
 "cells": [
  {
   "cell_type": "markdown",
   "id": "fe1db6c8",
   "metadata": {},
   "source": [
    "# Peer-graded Assignment title"
   ]
  },
  {
   "cell_type": "markdown",
   "id": "2662faf3",
   "metadata": {},
   "source": [
    "This is the intro"
   ]
  },
  {
   "cell_type": "markdown",
   "id": "940b2bc9",
   "metadata": {},
   "source": [
    "list of data science languages:\n",
    "python\n",
    "R\n",
    "SQL\n",
    "Java\n",
    "Scala\n",
    "Julia"
   ]
  },
  {
   "cell_type": "markdown",
   "id": "204cbe75",
   "metadata": {},
   "source": [
    "list of data science libraries:\n",
    "scikit-learn\n",
    "TensorFlow\n",
    "PyTorch\n",
    "Theano\n",
    "Caffe"
   ]
  },
  {
   "cell_type": "markdown",
   "id": "20896834",
   "metadata": {},
   "source": [
    "list of data science tools:\n",
    "MATLAB\n",
    "Apache Spark\n",
    "Tableau"
   ]
  },
  {
   "cell_type": "markdown",
   "id": "1f642220",
   "metadata": {},
   "source": [
    "An example of an arithmetic expression:\n",
    "+\n",
    "-\n",
    "/\n",
    "*"
   ]
  },
  {
   "cell_type": "code",
   "execution_count": 5,
   "id": "c34e7759",
   "metadata": {},
   "outputs": [
    {
     "name": "stdout",
     "output_type": "stream",
     "text": [
      "15\n",
      "50\n"
     ]
    }
   ],
   "source": [
    "x = 5+10\n",
    "y = 5*10\n",
    "print(x)\n",
    "print(y)"
   ]
  },
  {
   "cell_type": "code",
   "execution_count": null,
   "id": "24a1a514",
   "metadata": {},
   "outputs": [],
   "source": [
    "hours = minutes // 60\n",
    "minutes_left = minutes % 60"
   ]
  },
  {
   "cell_type": "markdown",
   "id": "271df6f9",
   "metadata": {},
   "source": [
    "list of objectives:\n",
    "Create a markdown cell with the title of the notebook.\n",
    "Create a markdown cell for an introduction.\n",
    "Create a markdown cell to list data science languages.\n",
    "Create a markdown cell to list data science libraries.\n",
    "Create a markdown cell with a table of Data Science tools.\n",
    "Create a markdown cell introducing arithmetic expression examples.\n",
    "Create a code cell to multiply and add numbers.\n",
    "Create a code cell to convert minutes to hours."
   ]
  },
  {
   "cell_type": "markdown",
   "id": "a188d526",
   "metadata": {},
   "source": [
    "Author: Melvin Gary"
   ]
  }
 ],
 "metadata": {
  "kernelspec": {
   "display_name": "Python 3 (ipykernel)",
   "language": "python",
   "name": "python3"
  },
  "language_info": {
   "codemirror_mode": {
    "name": "ipython",
    "version": 3
   },
   "file_extension": ".py",
   "mimetype": "text/x-python",
   "name": "python",
   "nbconvert_exporter": "python",
   "pygments_lexer": "ipython3",
   "version": "3.11.5"
  }
 },
 "nbformat": 4,
 "nbformat_minor": 5
}
