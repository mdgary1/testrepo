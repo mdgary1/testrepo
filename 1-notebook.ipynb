{
 "cells": [
  {
   "cell_type": "markdown",
   "id": "fe1db6c8",
   "metadata": {},
   "source": [
    "###### add your code below following the instructions given in the course"
   ]
  },
  {
   "cell_type": "markdown",
   "id": "2662faf3",
   "metadata": {},
   "source": [
    "# Data Science Tools and Ecosystem"
   ]
  },
  {
   "cell_type": "markdown",
   "id": "95b7e67c",
   "metadata": {},
   "source": [
    "## In this notebook, Data Science Tools and Ecosystems are summarized."
   ]
  },
  {
   "cell_type": "markdown",
   "id": "940b2bc9",
   "metadata": {},
   "source": [
    "### list of data science languages:\n",
    "-python\n",
    "-R\n",
    "-SQL\n",
    "-Java\n",
    "-Scala\n",
    "-Julia"
   ]
  },
  {
   "cell_type": "markdown",
   "id": "204cbe75",
   "metadata": {},
   "source": [
    "### list of data science libraries:\n",
    "-scikit-learn\n",
    "-TensorFlow\n",
    "-PyTorch\n",
    "-matplotlib\n",
    "-pandas"
   ]
  },
  {
   "cell_type": "markdown",
   "id": "20896834",
   "metadata": {},
   "source": [
    "### list of data science tools:\n",
    "-Jupyter Notebook\n",
    "-R studio\n",
    "-Anaconda"
   ]
  },
  {
   "cell_type": "markdown",
   "id": "1f642220",
   "metadata": {},
   "source": [
    "### Examples of an arithmetic expression:"
   ]
  },
  {
   "cell_type": "code",
   "execution_count": 6,
   "id": "c34e7759",
   "metadata": {},
   "outputs": [
    {
     "data": {
      "text/plain": [
       "53"
      ]
     },
     "execution_count": 6,
     "metadata": {},
     "output_type": "execute_result"
    }
   ],
   "source": [
    "(6*8)+5"
   ]
  },
  {
   "cell_type": "code",
   "execution_count": 7,
   "id": "24a1a514",
   "metadata": {},
   "outputs": [
    {
     "name": "stdout",
     "output_type": "stream",
     "text": [
      "3.3333333333333335\n"
     ]
    }
   ],
   "source": [
    "# converting hours to minutes\n",
    "print(200/60)"
   ]
  },
  {
   "cell_type": "markdown",
   "id": "271df6f9",
   "metadata": {},
   "source": [
    "### list of objectives:\n",
    "- Create a code cell to multiply and add numbers.\n",
    "- Create a markdown cell with introduction.\n",
    "- Create a markdown celll introduciing arithmetic expression examples.\n",
    "- Create a code cell to conver minutes to hours.\n"
   ]
  },
  {
   "cell_type": "markdown",
   "id": "a188d526",
   "metadata": {},
   "source": [
    "## Author: \n",
    "Melvin Gary"
   ]
  }
 ],
 "metadata": {
  "kernelspec": {
   "display_name": "Python 3 (ipykernel)",
   "language": "python",
   "name": "python3"
  },
  "language_info": {
   "codemirror_mode": {
    "name": "ipython",
    "version": 3
   },
   "file_extension": ".py",
   "mimetype": "text/x-python",
   "name": "python",
   "nbconvert_exporter": "python",
   "pygments_lexer": "ipython3",
   "version": "3.11.5"
  }
 },
 "nbformat": 4,
 "nbformat_minor": 5
}
